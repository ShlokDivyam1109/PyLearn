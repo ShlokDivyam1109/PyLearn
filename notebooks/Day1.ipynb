{
 "cells": [
  {
   "cell_type": "markdown",
   "metadata": {},
   "source": [
    "Day 1: PYTHON?\n",
    "--"
   ]
  },
  {
   "cell_type": "markdown",
   "metadata": {},
   "source": [
    "-----------------------------------------------------------------------------------------------------------------------------------------------------------------------"
   ]
  },
  {
   "cell_type": "markdown",
   "metadata": {},
   "source": [
    "According to Guido Van Rossum (Creator of Python!!!), Python is \"a descendant of ABC that would appeal to Unix/C hackers\". Python is a high-level (doesn't mean it is difficult to understand), general purpose programming language . Python is easy. Quite easier than assumed to be. It was first developed in December 1989, and was named Python, just because Van Rossum was a big fan of Monty's Python Flying Circus!\n",
    "\n",
    "-----------------------------------------------------------------------------------------------------------------------------------------------------------------------\n",
    "\n",
    "OK. That's a lot of introduction. Let us begin our Python journey. By the end of this day, You would be able to make simple programs in python. But before learning how to code, let us setup your PC, so that it understands Python.\n",
    "\n",
    "//  Step 1: TEACHING YOUR COMPUTER TO UNDERSTAND PYTHON  //\n",
    "-\n",
    "\n",
    "<<1.1>> Just follow the steps written in the official website https://docs.python.org/3/using/ and click on the relevant link based on the operating system you have.\n",
    "\n",
    "Unfortunately your PC understood Python before you could   8)"
   ]
  },
  {
   "cell_type": "markdown",
   "metadata": {},
   "source": [
    "-----------------------------------------------------------------------------------------------------------------------------------------------------------------------"
   ]
  },
  {
   "cell_type": "markdown",
   "metadata": {},
   "source": [
    "Time to show your power! Learn basics of Python, make codes and run them to show your PC that you are nothing less :)\n",
    "\n",
    "//Step 2: LEARNING BASIC PRINCIPLES OF PYTHON//\n",
    "-\n",
    "\n",
    "Before we hop onto full-fledged coding, let us understand the basics of python language that we may require while coding. The most important of all, Python is a programming language, not a simple communication language that a simple mistake can be handled without any interventions. Python is case-sensitive, i.e., it can differentiate between a capital and a small letter. Hence, the syntax must not have any spelling mistakes, not even case mistake. Secondly, Python doesn't have any \"line break character\" way of differentiating different lines of codes. Hence, we must go to \"next lines\" and use \"tab spaces\" judiciously. Why and when do we provide tab space? Imagine you have written a code to do work 1 and 2 if a condition is true, else, just skip to the main part where we must do work 2."
   ]
  },
  {
   "cell_type": "markdown",
   "metadata": {
    "vscode": {
     "languageId": "plaintext"
    }
   },
   "source": [
    "\tIf condition is true:\n",
    "\t\tDo work 1\n",
    "\tDo work 2\n"
   ]
  },
  {
   "cell_type": "markdown",
   "metadata": {},
   "source": [
    "If we don't put a tabspace before \"Do work 1\","
   ]
  },
  {
   "cell_type": "markdown",
   "metadata": {},
   "source": [
    "\tIf condition is true:\n",
    "\tDo work 1\n",
    "\tDo work 2"
   ]
  },
  {
   "cell_type": "markdown",
   "metadata": {},
   "source": [
    "This would be very confusing as whether the code should do both work 1 and 2 if condition is met, or are both the works outside the condition statement, or only the work 2 should be done if condition is not met and both the work if condition is met, etc.\n",
    "Hence, to differentiate between different groups of code, we give tab spaces.\n",
    "\n",
    "There is no syntax to be written to specify end of line. Hence, the next line is used to specify it."
   ]
  },
  {
   "cell_type": "markdown",
   "metadata": {},
   "source": [
    "-----------------------------------------------------------------------------------------------------------------------------------------------------------------------\n",
    "//Step 3: LEARNING HOW PYTHON STORES INFORMATION //\n",
    "-\n",
    "\n",
    "There are some basic programming terms that we must keep in mind before we start to program:\n",
    "\n",
    "1) Variables: These are certain name given to a value, so that it can be used later on in the code. In more complex words, it is a memory space defined to store values provided.\n",
    "\n",
    "1.1) Variable type: Memory space provided may vary based on what are the values provided. Type of variables are the sub groups of variables that we define to store values. It describes the characteristics of what the variable contains, whether it is a single character, a set of characters, an integer, a decimal number, etc.\n",
    "\n",
    "1.1.1) int: This variable type stores the integer values, for example, 1234, -437, etc.\n",
    "\n",
    "1.1.2) float: This variable type stores the decimal values, for example, 1234.5678, -437.196, etc. (Note: when a float is defined, it will have a roundoff error due to lack of precision)\n",
    "\n",
    "1.1.3) double: This variable type stores the decimal values, but has size double than that of float, for example, 1234.56786243, -437.192736431, etc. (Note: Same error as floats)\n",
    "\n",
    "1.1.4) str: This variable type stores a set of characters, for example, 'Hello','World',etc.\n",
    "\n",
    "1.1.5) bool: This variable either stores True or False (Case sensitive). For example, 1>2 stored in a variable makes the value of the variable True.\n",
    "\n",
    "1.1.6) None: This variable type is when a variable contains nothing. For example, if you want to assign some value to a variable later on, and have defined it beforehand, we assign *None*(Case sensitive) value to the variable. ex: a = None.\n",
    "\n",
    "1.1.7) list/arrays: This variable stores a set of different values. It can store int, float, double, str, list, arrays, etc. but has a defined positioning system. these position are called index. Index starts from 0, and goes to n-1, where n is the length of the list. Python allows back counting, i.e., last index can be represented as -1, seond last as -2, etc. For example, if [1,2,3.14,\"Hello\"] is defined to be a list and assigned to a variable named var, since the objects to be stored are entered in '[]' separated by ',', var will automatically assume the datatype list. Now, the value 1 is at index 0, 2 is at index 1, etc. and can be called with var[0], var[1], etc.\n",
    "\n",
    "1.1.8) tuple: This variable type is same as list, but with a slight difference. Values stored in this variable can never be changed!\n",
    "\n",
    "1.1.9) set: This variable type is same as list, but, just like real sets, it does not contain duplicate items.\n",
    "\n",
    "Variable types are automatically assigned by python to the variables during assignment. Pre-defining of variables are not mandatory here.\n",
    "\n",
    "For example:\n",
    "\n",
    "\tx = 12\n",
    "\n",
    "This line of code will store the value of int \"12\" into the space allocated for variable x, automatically assigning int type to x. But if I try to change its value to:\n",
    "\n",
    "\tx = [1,2,3,4]\n",
    "\n",
    "This line of code will store the values \"[1,2,3,4]\" into the space allocated for variable x, overwriting the value \"12\", automatically assigning list type to x. Hence, \"12\" would be lost!\n",
    "\n",
    "Note: New variable types can be created in python.\n",
    "\n",
    "-----------------------------------------------------------------------------------------------------------------------------------------------------------------------\n",
    "//Step 4: LEARNING HOW TO USE THESE STORED INFORMATION//\n",
    "-\n",
    "\n",
    "2) Operators: These are some in-built set of work, that is applied to the given operands and the output, which is generated, is placed at the location of the expression. And later, they can be even defined on different variable types to do different set of works.\n",
    "\n",
    "Precedence order: (),/,*,%,//,+,-,<,>,<=,>=,==,!=,not,and,or,=\n",
    "\n",
    "2.1) + : Adds two different numbers (int and int, int and float, float and float, float and double,etc.) and returns in datatype of highest precendence (high->double > float > int->low). For example, 5 + 4 gives 9 (int), but 5 + 4.01 gives 9.01 (float).\n",
    "\n",
    "It may also be used for different purposes. For example: \n",
    "\n",
    "i> Concatenate two str: ex- \"hello\" + \"world\" gives \"helloworld\"\n",
    "\n",
    "ii>Merge two list: ex- [1,3,2] + [\"hello\",\"world\"] gives [1,3,2,\"hello\",\"world\"]\n",
    "\n",
    "2.2) - : Subtracts two different numbers (int and int, int and float, float and float, float and double,etc.) and returns in datatype of highest precendence (high->double > float > int->low). For example, 5 - 4 gives 1 (int), but 5 - 4.01 gives 0.99 (float).\n",
    "\n",
    "2.3) * : Multiply two different numbers (int and int, int and float, float and float, float and double,etc.) and returns in datatype of highest precendence (high->double > float > int->low). For example, 5 * 4 gives 20 (int), but 5 * 4.01 gives 20.05 (float).\n",
    "\n",
    "It may also be used for different purposes. For example: \n",
    "\n",
    "i> Replicate str: ex- \"hello\" * 3 gives \"hellohellohello\"\n",
    "\n",
    "ii>Replicate list: ex- [1,3,2] * 3 gives [1,3,2,1,3,2,1,3,2]\n",
    "\n",
    "2.4) / : Divides two different numbers (int and int, int and float, float and float, float and double,etc.) and returns in datatype of float. For example, 5 / 5 gives 1.0 (float), as well as 5 / 4 gives 1.25 (float).\n",
    "\n",
    "2.5) ** : returns the value of left operator to the power of right operator. For example, 2 ** 4 gives 16.\n",
    "\n",
    "2.6) // : Divides two different numbers (int and int, int and float, float and float, float and double,etc.) and returns quotient in datatype of int. For example, 9 / 5 gives 1 (int), as well as 9.5 / 4.5 gives 2 (int).\n",
    "\n",
    "2.7) % : Divides two different numbers (int and int, int and float, float and float, float and double,etc.) and returns remainder in datatype of highest precendence (high->double > float > int->low). For example, 9 / 5 gives 4 (int), but 9 / 4.5 gives 0.0 (float).\n",
    "\n",
    "2.8) () : Expressions written in () are evaluated first. For example, 11 + (4/5) evaluates to 11.8 (float), but (11+4)/5 evaluates to 3 (int).\n",
    "\n",
    "2.9) >, <, >=, <= : Usual  meaning, gives bool as result. Even applicable on str, by comparing acii values of characters from left of the both the str until different character is found, or if any of the str ends. The shorter str is then chosen to be smaller.\n",
    "\n",
    "2.10) == : means \"is the value of left hand operand equal to the value of right hand operator?\"\n",
    "\n",
    "2.11) != : means \"is the value of left hand operand *not* equal to the value of right hand operator?\"\n",
    "\n",
    "2.12) not, and, or : These are boolean operators, which gives usual result. For example, not(True) gives False, True and False gives False, etc.\n",
    "\t\t\t\n",
    "However, there is a catch here!\n",
    "\t\n",
    "\t2 and 1 gives 1, and 1 or 2 gives 1!\n",
    "\n",
    "You may ask, \"how?\". That is because, \"and\" and \"or\" reads from left to right. Any number other than 0 and any str other than empty string, represents True value. In \"and\" operation, if it encounters False as its left operand, it just replaces the entire expression with False, without checking right operand, and returns the false operand. In \"or\" operation, if it encounters True as its left operand, it just replaces the entire expression with True, without checking right operand, and returns the true operand. This gives an advantage!\n",
    "\n",
    "For example:"
   ]
  },
  {
   "cell_type": "markdown",
   "metadata": {},
   "source": [
    "\tl=list()\n",
    "\tif True or l[0]:\n",
    "\t\tprint(\"Hello world.\")"
   ]
  },
  {
   "cell_type": "markdown",
   "metadata": {},
   "source": [
    "will give the output as \"Hello world.\"! This is because \"or\" operand just reads the left operand and returns True to if, without checking the right operand (which would give an error because l is empty!)\n",
    "\n",
    "2.13) = : Assigns the value/object on its right to the variable on its left. For example: a = \"Hello world\" assigns the variable a with the value \"Hello world\".\n",
    "\n",
    "In case the expression does not involve (), they are calculated using the precendence order.\n",
    "\n",
    "For example, 11 + 4 / 5 gives 11.8 and not 3.\n",
    "\n",
    "Or if precedence order is equal, the evaluation goes from left to right.\n",
    "\n",
    "For example, 5 % 10 // 2 gives 2 and not 1, (because 5 % 10 is computed first which evaluates to 5, then 5 // 2 is evaluated, which gives 2).\n",
    "\n",
    "-----------------------------------------------------------------------------------------------------------------------------------------------------------------------"
   ]
  },
  {
   "cell_type": "markdown",
   "metadata": {
    "vscode": {
     "languageId": "plaintext"
    }
   },
   "source": [
    "//Step 5: PLAYING WITH SOME COMMANDS //\n",
    "-\n",
    "\n",
    "3. Function: These are blocks of code that may or may not take inputs (called \"arguments\"), but does some work! These work may include showing the output to the user, but it may just do some petty jobs, for which we don't want to write code repetatively. If a certain argument is accepted into a function, then, inside the functions, these variables are called \"parameters\".\n",
    "\n",
    "3.1) Built-in functions: These functions are already defined in python main library. It needs not be defined by the user.\n",
    "\n",
    "3.1.1) print(arg1, arg2, ... , sep = a, end = b): prints the arguments provided in the format \"<arg1><sep><arg2><sep><arg3>...<end>\". sep and end should be str. default value of sep is \" \" and end is \"\\n\". There is no specified maximum number of arguments that could be provided to print.\n",
    "\n",
    "3.1.2) input(arg1): arg1 is printed on the screen, and the characters typed by the user is returned in str format.\n",
    "\n",
    "3.1.3) list(arg): It separated the values of arg (if separable, like str, tuple, list, ... ), or just the single value of arg (like int, float, etc. ) is returned in the form of list.\n",
    "\n",
    "3.1.4) tuple(arg): Same as list function, returns tuple.\n",
    "\n",
    "3.1.5) set(arg): Same as list function, returns set.\n",
    "\n",
    "3.1.6) str(arg): Almost same as list function, just the difference is that numbers are also separable here, returns str.\n",
    "\n",
    "and many more...\n",
    "\n",
    "--------------------------------------------------------------------------------------------------------------------------------------------------------------------\t"
   ]
  },
  {
   "cell_type": "markdown",
   "metadata": {},
   "source": [
    "That's it for today! Well, there are many things left for tomorrow's study. Functions are also not finished yet, but is enough to make simple codes. \n",
    "\n",
    "I will write a simple code to take two inputs from user and print its sum:"
   ]
  },
  {
   "cell_type": "code",
   "execution_count": 3,
   "metadata": {},
   "outputs": [
    {
     "name": "stdout",
     "output_type": "stream",
     "text": [
      "Hello Shlok Divyam!\n"
     ]
    }
   ],
   "source": [
    "x = input(\"Enter your first name: \")\n",
    "y = input(\"Enter your last name: \")\n",
    "concat = x + \" \" + y\n",
    "print(\"Hello \",concat,\"!\",sep=\"\")"
   ]
  },
  {
   "cell_type": "markdown",
   "metadata": {},
   "source": [
    "Also it is not necessary that arguments passed should be variables. It can also be expressions. Like the next code:"
   ]
  },
  {
   "cell_type": "code",
   "execution_count": 4,
   "metadata": {},
   "outputs": [
    {
     "name": "stdout",
     "output_type": "stream",
     "text": [
      "Hello Shlok Divyam!\n"
     ]
    }
   ],
   "source": [
    "x = input(\"Enter your first name: \")\n",
    "y = input(\"Enter your last name: \")\n",
    "print(\"Hello \" + x + \" \" + y + \"!\")"
   ]
  },
  {
   "cell_type": "markdown",
   "metadata": {},
   "source": [
    "What if we had to int as input? We can say that first we take input, which is str, and then convert it to int. Like:"
   ]
  },
  {
   "cell_type": "code",
   "execution_count": 5,
   "metadata": {},
   "outputs": [
    {
     "name": "stdout",
     "output_type": "stream",
     "text": [
      "The sum of 3 and 5 is 8\n"
     ]
    }
   ],
   "source": [
    "x = int(input(\"Enter the first number: \"))\n",
    "y = int(input(\"Enter the second number: \"))\n",
    "add = x + y\n",
    "print(\"The sum of\",x,\"and\",y,\"is\",add)"
   ]
  },
  {
   "cell_type": "markdown",
   "metadata": {},
   "source": [
    "Now remove int(), and try the code. It turns out that the inputs are just concatenated rather than just adding. This is because, as we had learnt, inputs returns the user input as str, which when undergoes + operations, simply concatenates!\n",
    "\n",
    "An application of boolean operator comes in if-else statements. The syntax is as follows:\n",
    "\n",
    "    if condition_1:\n",
    "        code_1\n",
    "    elif condition_2:\n",
    "        code_2\n",
    "    else:\n",
    "        code_3\n",
    "\n",
    "If condition_1 evaluates to True, only code_1 gets executed. If condition_1 evaluates to False and condition_2 evaluates to True, code_2 gets executed. Otherwise, if condition_1 and condition_2 both are False, code_3 (else code part) is executed. As you can see in this examples,"
   ]
  },
  {
   "cell_type": "code",
   "execution_count": 8,
   "metadata": {},
   "outputs": [
    {
     "name": "stdout",
     "output_type": "stream",
     "text": [
      "Oops! Your entered input did not match any of the options.\n"
     ]
    }
   ],
   "source": [
    "x = input(\"Enter Y / N (Y for yes, N for no): \")\n",
    "if x==\"Y\":\n",
    "    print(\"Your input was recorded as yes!\")\n",
    "elif x==\"N\":\n",
    "    print(\"Your input was recorded as no!\")\n",
    "else:\n",
    "    print(\"Oops! Your entered input did not match any of the options.\")"
   ]
  },
  {
   "cell_type": "code",
   "execution_count": 14,
   "metadata": {},
   "outputs": [
    {
     "name": "stdout",
     "output_type": "stream",
     "text": [
      "The names of customers in alphabetical order is:\n",
      "A\n",
      "AA\n"
     ]
    }
   ],
   "source": [
    "x = input(\"Enter the name of first customer: \")\n",
    "y = input(\"Enter the name of second customer: \")\n",
    "print(\"The names of customers in alphabetical order is:\")\n",
    "if x>=y:\n",
    "    print(y)\n",
    "    print(x)\n",
    "else:\n",
    "    print(x,y,sep=\"\\n\")"
   ]
  },
  {
   "cell_type": "markdown",
   "metadata": {},
   "source": [
    "Similarly, try out new combinations! If you find any doubts, then note them down in a book, and keep them with you. Tomorrow, when we will address some other concepts related to Python programming, we will cover those doubts. Along with these, I will give you a few questions. Please try them out yourself to understand the concepts you have learned today. \n",
    "\n",
    "-----------------------------------------------------------------------------------------------------------------------------------------------------------------------\n",
    "QUESTIONS\n",
    "-\n",
    "\n",
    "1) Take three numbers as input. Find the maximum of these numbers.\n",
    "\n",
    "2) Take two numbers as input. Find which number divides which.\n",
    "\n",
    "3) Take an year as input. Find out if the year is a leap year, and if the year is a centurian year.\n",
    "\n",
    "4) Take three names. Print them in alphabetical order.\n",
    "\n",
    "\n",
    "_______________________________________________________\n",
    "THANK YOU\n",
    "-\n",
    "___________________________________________________________________"
   ]
  }
 ],
 "metadata": {
  "kernelspec": {
   "display_name": "Python 3",
   "language": "python",
   "name": "python3"
  },
  "language_info": {
   "codemirror_mode": {
    "name": "ipython",
    "version": 3
   },
   "file_extension": ".py",
   "mimetype": "text/x-python",
   "name": "python",
   "nbconvert_exporter": "python",
   "pygments_lexer": "ipython3",
   "version": "3.12.1"
  }
 },
 "nbformat": 4,
 "nbformat_minor": 4
}
